{
 "cells": [
  {
   "cell_type": "code",
   "execution_count": 1,
   "metadata": {},
   "outputs": [
    {
     "name": "stderr",
     "output_type": "stream",
     "text": [
      "Building prefix dict from /mnt/nas6/M10815022/Workshop/ASR-scoring/dict.txt.big ...\n",
      "Loading model from cache /tmp/jieba.ucfb8ae285d58aef6cbbbd2461a5e0d2f.cache\n",
      "Loading model cost 1.493 seconds.\n",
      "Prefix dict has been built successfully.\n"
     ]
    }
   ],
   "source": [
    "import json\n",
    "import jieba\n",
    "import numpy as np\n",
    "from rouge import Rouge\n",
    "\n",
    "jieba.set_dictionary('dict.txt.big')\n",
    "jieba.initialize()\n",
    "rouge = Rouge()"
   ]
  },
  {
   "cell_type": "code",
   "execution_count": 2,
   "metadata": {},
   "outputs": [],
   "source": [
    "cjk_ranges = [\n",
    "        ( 0x4E00,  0x62FF),\n",
    "        ( 0x6300,  0x77FF),\n",
    "        ( 0x7800,  0x8CFF),\n",
    "        ( 0x8D00,  0x9FCC),\n",
    "        ( 0x3400,  0x4DB5),\n",
    "        (0x20000, 0x215FF),\n",
    "        (0x21600, 0x230FF),\n",
    "        (0x23100, 0x245FF),\n",
    "        (0x24600, 0x260FF),\n",
    "        (0x26100, 0x275FF),\n",
    "        (0x27600, 0x290FF),\n",
    "        (0x29100, 0x2A6DF),\n",
    "        (0x2A700, 0x2B734),\n",
    "        (0x2B740, 0x2B81D),\n",
    "        (0x2B820, 0x2CEAF),\n",
    "        (0x2CEB0, 0x2EBEF),\n",
    "        (0x2F800, 0x2FA1F),\n",
    "        (ord('0'), ord('9')),\n",
    "        (ord('a'), ord('z')),\n",
    "        (ord('A'), ord('Z'))\n",
    "    ]\n",
    "\n",
    "def preproc(string, hyp=False):\n",
    "    def is_important(char):\n",
    "        if char == ' ':\n",
    "            return True\n",
    "        char = ord(char)\n",
    "        for bottom, top in cjk_ranges:\n",
    "            if char >= bottom and char <= top:\n",
    "                return True\n",
    "        return False\n",
    "    \n",
    "    if hyp:\n",
    "        string = string[:-5]\n",
    "    return ''.join(c for c in string if is_important(c))\n",
    "\n",
    "def jieba_split(string, hyp=False):\n",
    "    return [w for w in jieba.cut(preproc(string, hyp)) if w != ' ']\n",
    "\n",
    "def jieba_rouge(hyp_ref_tuple):\n",
    "    try:\n",
    "        hypothesis, reference = hyp_ref_tuple\n",
    "        hypothesis = ' '.join(jieba_split(hypothesis, hyp=True))\n",
    "        reference = ' '.join(jieba_split(reference))\n",
    "        scores = rouge.get_scores(hypothesis, reference)[0]\n",
    "        rouge_1f, rouge_2f, rouge_lf = scores['rouge-1']['f'], scores['rouge-2']['f'], scores['rouge-l']['f']\n",
    "        rouge_1r, rouge_2r, rouge_lr = scores['rouge-1']['r'], scores['rouge-2']['r'], scores['rouge-l']['r']\n",
    "        rouge_1p, rouge_2p, rouge_lp = scores['rouge-1']['p'], scores['rouge-2']['p'], scores['rouge-l']['p']\n",
    "        return (rouge_1f, rouge_2f, rouge_lf, rouge_1r, rouge_2r, rouge_lr, rouge_1p, rouge_2p, rouge_lp)\n",
    "    except:\n",
    "        return (0, 0, 0, 0, 0, 0, 0, 0, 0)\n",
    "\n",
    "def char_rouge(hyp_ref_tuple):\n",
    "    try:\n",
    "        hypothesis, reference = hyp_ref_tuple\n",
    "        hypothesis = ' '.join(c for c in preproc(hypothesis, hyp=True))\n",
    "        reference = ' '.join(c for c in preproc(reference))\n",
    "        scores = rouge.get_scores(hypothesis, reference)[0]\n",
    "        rouge_1f, rouge_2f, rouge_lf = scores['rouge-1']['f'], scores['rouge-2']['f'], scores['rouge-l']['f']\n",
    "        rouge_1r, rouge_2r, rouge_lr = scores['rouge-1']['r'], scores['rouge-2']['r'], scores['rouge-l']['r']\n",
    "        rouge_1p, rouge_2p, rouge_lp = scores['rouge-1']['p'], scores['rouge-2']['p'], scores['rouge-l']['p']\n",
    "        return (rouge_1f, rouge_2f, rouge_lf, rouge_1r, rouge_2r, rouge_lr, rouge_1p, rouge_2p, rouge_lp)\n",
    "    except:\n",
    "        return (0, 0, 0, 0, 0, 0, 0, 0, 0)\n",
    "\n",
    "def show_rouge(rouge_list):\n",
    "    rouge_metrics = zip(*rouge_list)\n",
    "    rouge_1f, rouge_2f, rouge_lf, rouge_1r, rouge_2r, rouge_lr, rouge_1p, rouge_2p, rouge_lp = (np.mean(metric) for metric in rouge_metrics)\n",
    "    print('-----------------------')\n",
    "    print('  ROUGE-1(F): %.4f' % (100*rouge_1f))\n",
    "    print('  ROUGE-2(F): %.4f' % (100*rouge_2f))\n",
    "    print('  ROUGE-L(F): %.4f' % (100*rouge_lf))\n",
    "    print('-----------------------')\n",
    "    print('  ROUGE-1(R): %.4f' % (100*rouge_1r))\n",
    "    print('  ROUGE-2(R): %.4f' % (100*rouge_2r))\n",
    "    print('  ROUGE-L(R): %.4f' % (100*rouge_lr))\n",
    "    print('-----------------------')\n",
    "    print('  ROUGE-1(P): %.4f' % (100*rouge_1p))\n",
    "    print('  ROUGE-2(P): %.4f' % (100*rouge_2p))\n",
    "    print('  ROUGE-L(P): %.4f' % (100*rouge_lp))\n",
    "    print('-----------------------')"
   ]
  },
  {
   "cell_type": "code",
   "execution_count": 3,
   "metadata": {},
   "outputs": [
    {
     "name": "stdout",
     "output_type": "stream",
     "text": [
      "(0.8571428522448981, 0.7999999952000001, 0.8241758241751401, 1.0, 1.0, 1.0, 0.75, 0.6666666666666666, 0.75)\n"
     ]
    }
   ],
   "source": [
    "hypothesis = '它描述了三位，...<eos>'\n",
    "reference = '它描述了'\n",
    "print(jieba_rouge((hypothesis, reference)))"
   ]
  },
  {
   "cell_type": "code",
   "execution_count": 4,
   "metadata": {},
   "outputs": [
    {
     "name": "stdout",
     "output_type": "stream",
     "text": [
      "(0.7999999952000001, 0.7499999953125, 0.7428571428564522, 1.0, 1.0, 1.0, 0.6666666666666666, 0.6, 0.6666666666666666)\n"
     ]
    }
   ],
   "source": [
    "hypothesis = '它描述了三位，...<eos>'\n",
    "reference = '它描述了'\n",
    "print(char_rouge((hypothesis, reference)))"
   ]
  },
  {
   "cell_type": "markdown",
   "metadata": {},
   "source": [
    "### Load json and score ROUGE for 10k samples"
   ]
  },
  {
   "cell_type": "code",
   "execution_count": 5,
   "metadata": {},
   "outputs": [
    {
     "name": "stdout",
     "output_type": "stream",
     "text": [
      "CPU times: user 5.15 s, sys: 19.7 s, total: 24.8 s\n",
      "Wall time: 24.8 s\n"
     ]
    }
   ],
   "source": [
    "%%time\n",
    "data = json.load(open('data.json'))\n",
    "utt_ids = list(data['utts'].keys())[:10000]"
   ]
  },
  {
   "cell_type": "code",
   "execution_count": 6,
   "metadata": {},
   "outputs": [
    {
     "name": "stdout",
     "output_type": "stream",
     "text": [
      "Char-based: scoring 10000/10000(100.00%)\n",
      "-----------------------\n",
      "  ROUGE-1(F): 53.3846\n",
      "  ROUGE-2(F): 38.0086\n",
      "  ROUGE-L(F): 50.4913\n",
      "-----------------------\n",
      "  ROUGE-1(R): 49.6254\n",
      "  ROUGE-2(R): 35.4636\n",
      "  ROUGE-L(R): 49.2868\n",
      "-----------------------\n",
      "  ROUGE-1(P): 63.0587\n",
      "  ROUGE-2(P): 45.0663\n",
      "  ROUGE-L(P): 62.6213\n",
      "-----------------------\n",
      "\n",
      "Word-based: scoring 10000/10000(100.00%)\n",
      "-----------------------\n",
      "  ROUGE-1(F): 46.5606\n",
      "  ROUGE-2(F): 25.5234\n",
      "  ROUGE-L(F): 44.0698\n",
      "-----------------------\n",
      "  ROUGE-1(R): 43.4274\n",
      "  ROUGE-2(R): 24.0374\n",
      "  ROUGE-L(R): 43.2313\n",
      "-----------------------\n",
      "  ROUGE-1(P): 54.8321\n",
      "  ROUGE-2(P): 29.4950\n",
      "  ROUGE-L(P): 54.5922\n",
      "-----------------------\n"
     ]
    }
   ],
   "source": [
    "# Char-based\n",
    "rouge_list = []\n",
    "for i, utt_id in enumerate(utt_ids, start=1):\n",
    "    hypothesis = data['utts'][utt_id]['output'][0]['rec_text']\n",
    "    reference = data['utts'][utt_id]['output'][0]['text']\n",
    "    hyp_ref_tuple = (hypothesis, reference)\n",
    "    rouge_list.append(char_rouge(hyp_ref_tuple))\n",
    "    print('Char-based: scoring %d/%d(%.2f%%)\\r' % (i, len(utt_ids), 100*i/len(utt_ids)), end='')\n",
    "print()\n",
    "show_rouge(rouge_list)\n",
    "print()\n",
    "\n",
    "# Word-based ROUGE (segmented by Jieba)\n",
    "rouge_list = []\n",
    "for i, utt_id in enumerate(utt_ids, start=1):\n",
    "    hypothesis = data['utts'][utt_id]['output'][0]['rec_text']\n",
    "    reference = data['utts'][utt_id]['output'][0]['text']\n",
    "    hyp_ref_tuple = (hypothesis, reference)\n",
    "    rouge_list.append(jieba_rouge(hyp_ref_tuple))\n",
    "    print('Word-based: scoring %d/%d(%.2f%%)\\r' % (i, len(utt_ids), 100*i/len(utt_ids)), end='')\n",
    "print()\n",
    "show_rouge(rouge_list)"
   ]
  }
 ],
 "metadata": {
  "kernelspec": {
   "display_name": "Python 3.6",
   "language": "python",
   "name": "python36"
  },
  "language_info": {
   "codemirror_mode": {
    "name": "ipython",
    "version": 3
   },
   "file_extension": ".py",
   "mimetype": "text/x-python",
   "name": "python",
   "nbconvert_exporter": "python",
   "pygments_lexer": "ipython3",
   "version": "3.6.9"
  }
 },
 "nbformat": 4,
 "nbformat_minor": 4
}
